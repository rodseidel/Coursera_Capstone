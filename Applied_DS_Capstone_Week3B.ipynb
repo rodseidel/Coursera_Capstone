{
  "nbformat": 4,
  "nbformat_minor": 0,
  "metadata": {
    "colab": {
      "name": "Applied_DS_Capstone_Week3B.ipynb",
      "provenance": []
    },
    "kernelspec": {
      "name": "python3",
      "display_name": "Python 3"
    }
  },
  "cells": [
    {
      "cell_type": "code",
      "metadata": {
        "id": "cOo1HQl7241r",
        "colab_type": "code",
        "colab": {}
      },
      "source": [
        "import pandas as pd\n",
        "import requests\n",
        "from bs4 import BeautifulSoup"
      ],
      "execution_count": 0,
      "outputs": []
    },
    {
      "cell_type": "markdown",
      "metadata": {
        "id": "eJBEArPyHLSz",
        "colab_type": "text"
      },
      "source": [
        "##Request Wikipedia and get table"
      ]
    },
    {
      "cell_type": "code",
      "metadata": {
        "id": "Vrsp7kk-4kMG",
        "colab_type": "code",
        "outputId": "302281a7-92da-4c3c-febc-9a471011e245",
        "colab": {
          "base_uri": "https://localhost:8080/",
          "height": 34
        }
      },
      "source": [
        "req = requests.get('https://en.wikipedia.org/wiki/List_of_postal_codes_of_Canada:_M')\n",
        "if req.status_code == 200:\n",
        "    print('Success!')\n",
        "    content = req.content"
      ],
      "execution_count": 68,
      "outputs": [
        {
          "output_type": "stream",
          "text": [
            "Success!\n"
          ],
          "name": "stdout"
        }
      ]
    },
    {
      "cell_type": "code",
      "metadata": {
        "id": "cxW_ZGs944Qf",
        "colab_type": "code",
        "colab": {}
      },
      "source": [
        "#Get table\n",
        "soup = BeautifulSoup(content, 'html.parser')\n",
        "table = soup.findAll(name='table', attrs={'class':'wikitable sortable'})\n",
        "table_str = str(table)\n",
        "#The dataframe will consist of three columns: PostalCode, Borough, and Neighborhood\n",
        "df = pd.read_html(table_str)[0]"
      ],
      "execution_count": 0,
      "outputs": []
    },
    {
      "cell_type": "markdown",
      "metadata": {
        "id": "vENFxp9DHWoH",
        "colab_type": "text"
      },
      "source": [
        "#Cleaning data\n",
        "### Filtering \"Not assigned\" borough"
      ]
    },
    {
      "cell_type": "code",
      "metadata": {
        "id": "L0tB1Jjy7T2K",
        "colab_type": "code",
        "colab": {}
      },
      "source": [
        "df = df[df.Borough != \"Not assigned\"]"
      ],
      "execution_count": 0,
      "outputs": []
    },
    {
      "cell_type": "markdown",
      "metadata": {
        "id": "8OCyPPDJIzAm",
        "colab_type": "text"
      },
      "source": [
        "### Verifing if exists \"Not assigned\" Neighbourhood"
      ]
    },
    {
      "cell_type": "code",
      "metadata": {
        "id": "wOAV3S3TIx7f",
        "colab_type": "code",
        "outputId": "0de2e3db-fafc-4209-80ce-6cd32f216315",
        "colab": {
          "base_uri": "https://localhost:8080/",
          "height": 85
        }
      },
      "source": [
        "df[df.Neighbourhood == \"Not assigned\"].count()"
      ],
      "execution_count": 71,
      "outputs": [
        {
          "output_type": "execute_result",
          "data": {
            "text/plain": [
              "Postcode         0\n",
              "Borough          0\n",
              "Neighbourhood    0\n",
              "dtype: int64"
            ]
          },
          "metadata": {
            "tags": []
          },
          "execution_count": 71
        }
      ]
    },
    {
      "cell_type": "markdown",
      "metadata": {
        "id": "rCb23eG1Hqwc",
        "colab_type": "text"
      },
      "source": [
        "### Grouping by Postcode an Borough and combining nighborhoods separeting with comma"
      ]
    },
    {
      "cell_type": "code",
      "metadata": {
        "id": "q5f50PhV-RIu",
        "colab_type": "code",
        "colab": {}
      },
      "source": [
        "df = df.groupby(['Postcode','Borough'])['Neighbourhood'].apply(', '.join).reset_index()"
      ],
      "execution_count": 0,
      "outputs": []
    },
    {
      "cell_type": "markdown",
      "metadata": {
        "id": "dx4j6nWNKO9a",
        "colab_type": "text"
      },
      "source": [
        "### Printing the number of rows from dataframe"
      ]
    },
    {
      "cell_type": "code",
      "metadata": {
        "id": "rbNJtur3BoDE",
        "colab_type": "code",
        "outputId": "bd991498-4e64-4e26-8f77-ef2bbaf3fe14",
        "colab": {
          "base_uri": "https://localhost:8080/",
          "height": 34
        }
      },
      "source": [
        "#In the last cell of your notebook, use the .shape method to print the number of rows of your dataframe.\n",
        "df.shape"
      ],
      "execution_count": 73,
      "outputs": [
        {
          "output_type": "execute_result",
          "data": {
            "text/plain": [
              "(103, 3)"
            ]
          },
          "metadata": {
            "tags": []
          },
          "execution_count": 73
        }
      ]
    },
    {
      "cell_type": "markdown",
      "metadata": {
        "id": "psJDF0HIIHMI",
        "colab_type": "text"
      },
      "source": [
        "### Get the latitude and the longitude coordinates of each neighborhood"
      ]
    },
    {
      "cell_type": "code",
      "metadata": {
        "id": "KeCPL_DtIiO6",
        "colab_type": "code",
        "colab": {}
      },
      "source": [
        "locations_file = pd.read_csv(\"https://ibm.box.com/shared/static/9afzr83pps4pwf2smjjcf1y5mvgb18rr.csv\")"
      ],
      "execution_count": 0,
      "outputs": []
    },
    {
      "cell_type": "code",
      "metadata": {
        "id": "Dk4bjS-lKTPK",
        "colab_type": "code",
        "colab": {
          "base_uri": "https://localhost:8080/",
          "height": 419
        },
        "outputId": "755465f0-c65e-43fb-a647-1f9c4e98eb4f"
      },
      "source": [
        "locations_file.rename(columns={'Postal Code':'Postcode'}, inplace=True)\n",
        "df_complete = pd.merge(df, locations_file, on='Postcode')\n",
        "df_complete"
      ],
      "execution_count": 79,
      "outputs": [
        {
          "output_type": "execute_result",
          "data": {
            "text/html": [
              "<div>\n",
              "<style scoped>\n",
              "    .dataframe tbody tr th:only-of-type {\n",
              "        vertical-align: middle;\n",
              "    }\n",
              "\n",
              "    .dataframe tbody tr th {\n",
              "        vertical-align: top;\n",
              "    }\n",
              "\n",
              "    .dataframe thead th {\n",
              "        text-align: right;\n",
              "    }\n",
              "</style>\n",
              "<table border=\"1\" class=\"dataframe\">\n",
              "  <thead>\n",
              "    <tr style=\"text-align: right;\">\n",
              "      <th></th>\n",
              "      <th>Postcode</th>\n",
              "      <th>Borough</th>\n",
              "      <th>Neighbourhood</th>\n",
              "      <th>Latitude</th>\n",
              "      <th>Longitude</th>\n",
              "    </tr>\n",
              "  </thead>\n",
              "  <tbody>\n",
              "    <tr>\n",
              "      <th>0</th>\n",
              "      <td>M1B</td>\n",
              "      <td>Scarborough</td>\n",
              "      <td>Rouge, Malvern</td>\n",
              "      <td>43.806686</td>\n",
              "      <td>-79.194353</td>\n",
              "    </tr>\n",
              "    <tr>\n",
              "      <th>1</th>\n",
              "      <td>M1C</td>\n",
              "      <td>Scarborough</td>\n",
              "      <td>Highland Creek, Rouge Hill, Port Union</td>\n",
              "      <td>43.784535</td>\n",
              "      <td>-79.160497</td>\n",
              "    </tr>\n",
              "    <tr>\n",
              "      <th>2</th>\n",
              "      <td>M1E</td>\n",
              "      <td>Scarborough</td>\n",
              "      <td>Guildwood, Morningside, West Hill</td>\n",
              "      <td>43.763573</td>\n",
              "      <td>-79.188711</td>\n",
              "    </tr>\n",
              "    <tr>\n",
              "      <th>3</th>\n",
              "      <td>M1G</td>\n",
              "      <td>Scarborough</td>\n",
              "      <td>Woburn</td>\n",
              "      <td>43.770992</td>\n",
              "      <td>-79.216917</td>\n",
              "    </tr>\n",
              "    <tr>\n",
              "      <th>4</th>\n",
              "      <td>M1H</td>\n",
              "      <td>Scarborough</td>\n",
              "      <td>Cedarbrae</td>\n",
              "      <td>43.773136</td>\n",
              "      <td>-79.239476</td>\n",
              "    </tr>\n",
              "    <tr>\n",
              "      <th>...</th>\n",
              "      <td>...</td>\n",
              "      <td>...</td>\n",
              "      <td>...</td>\n",
              "      <td>...</td>\n",
              "      <td>...</td>\n",
              "    </tr>\n",
              "    <tr>\n",
              "      <th>98</th>\n",
              "      <td>M9N</td>\n",
              "      <td>York</td>\n",
              "      <td>Weston</td>\n",
              "      <td>43.706876</td>\n",
              "      <td>-79.518188</td>\n",
              "    </tr>\n",
              "    <tr>\n",
              "      <th>99</th>\n",
              "      <td>M9P</td>\n",
              "      <td>Etobicoke</td>\n",
              "      <td>Westmount</td>\n",
              "      <td>43.696319</td>\n",
              "      <td>-79.532242</td>\n",
              "    </tr>\n",
              "    <tr>\n",
              "      <th>100</th>\n",
              "      <td>M9R</td>\n",
              "      <td>Etobicoke</td>\n",
              "      <td>Kingsview Village, Martin Grove Gardens, Richv...</td>\n",
              "      <td>43.688905</td>\n",
              "      <td>-79.554724</td>\n",
              "    </tr>\n",
              "    <tr>\n",
              "      <th>101</th>\n",
              "      <td>M9V</td>\n",
              "      <td>Etobicoke</td>\n",
              "      <td>Albion Gardens, Beaumond Heights, Humbergate, ...</td>\n",
              "      <td>43.739416</td>\n",
              "      <td>-79.588437</td>\n",
              "    </tr>\n",
              "    <tr>\n",
              "      <th>102</th>\n",
              "      <td>M9W</td>\n",
              "      <td>Etobicoke</td>\n",
              "      <td>Northwest</td>\n",
              "      <td>43.706748</td>\n",
              "      <td>-79.594054</td>\n",
              "    </tr>\n",
              "  </tbody>\n",
              "</table>\n",
              "<p>103 rows × 5 columns</p>\n",
              "</div>"
            ],
            "text/plain": [
              "    Postcode      Borough  ...   Latitude  Longitude\n",
              "0        M1B  Scarborough  ...  43.806686 -79.194353\n",
              "1        M1C  Scarborough  ...  43.784535 -79.160497\n",
              "2        M1E  Scarborough  ...  43.763573 -79.188711\n",
              "3        M1G  Scarborough  ...  43.770992 -79.216917\n",
              "4        M1H  Scarborough  ...  43.773136 -79.239476\n",
              "..       ...          ...  ...        ...        ...\n",
              "98       M9N         York  ...  43.706876 -79.518188\n",
              "99       M9P    Etobicoke  ...  43.696319 -79.532242\n",
              "100      M9R    Etobicoke  ...  43.688905 -79.554724\n",
              "101      M9V    Etobicoke  ...  43.739416 -79.588437\n",
              "102      M9W    Etobicoke  ...  43.706748 -79.594054\n",
              "\n",
              "[103 rows x 5 columns]"
            ]
          },
          "metadata": {
            "tags": []
          },
          "execution_count": 79
        }
      ]
    },
    {
      "cell_type": "code",
      "metadata": {
        "id": "iKEYnrAXLdOy",
        "colab_type": "code",
        "colab": {}
      },
      "source": [
        ""
      ],
      "execution_count": 0,
      "outputs": []
    }
  ]
}