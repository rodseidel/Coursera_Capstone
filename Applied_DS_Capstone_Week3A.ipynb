{
  "nbformat": 4,
  "nbformat_minor": 0,
  "metadata": {
    "colab": {
      "name": "Applied_DS_Capstone_Week3A.ipynb",
      "provenance": []
    },
    "kernelspec": {
      "name": "python3",
      "display_name": "Python 3"
    }
  },
  "cells": [
    {
      "cell_type": "code",
      "metadata": {
        "id": "cOo1HQl7241r",
        "colab_type": "code",
        "colab": {}
      },
      "source": [
        "import pandas as pd\n",
        "import requests\n",
        "from bs4 import BeautifulSoup"
      ],
      "execution_count": 0,
      "outputs": []
    },
    {
      "cell_type": "markdown",
      "metadata": {
        "id": "eJBEArPyHLSz",
        "colab_type": "text"
      },
      "source": [
        "##Request Wikipedia and get table"
      ]
    },
    {
      "cell_type": "code",
      "metadata": {
        "id": "Vrsp7kk-4kMG",
        "colab_type": "code",
        "outputId": "302281a7-92da-4c3c-febc-9a471011e245",
        "colab": {
          "base_uri": "https://localhost:8080/",
          "height": 34
        }
      },
      "source": [
        "req = requests.get('https://en.wikipedia.org/wiki/List_of_postal_codes_of_Canada:_M')\n",
        "if req.status_code == 200:\n",
        "    print('Success!')\n",
        "    content = req.content"
      ],
      "execution_count": 68,
      "outputs": [
        {
          "output_type": "stream",
          "text": [
            "Success!\n"
          ],
          "name": "stdout"
        }
      ]
    },
    {
      "cell_type": "code",
      "metadata": {
        "id": "cxW_ZGs944Qf",
        "colab_type": "code",
        "colab": {}
      },
      "source": [
        "#Get table\n",
        "soup = BeautifulSoup(content, 'html.parser')\n",
        "table = soup.findAll(name='table', attrs={'class':'wikitable sortable'})\n",
        "table_str = str(table)\n",
        "#The dataframe will consist of three columns: PostalCode, Borough, and Neighborhood\n",
        "df = pd.read_html(table_str)[0]"
      ],
      "execution_count": 0,
      "outputs": []
    },
    {
      "cell_type": "markdown",
      "metadata": {
        "id": "vENFxp9DHWoH",
        "colab_type": "text"
      },
      "source": [
        "#Cleaning data\n",
        "### Filtering \"Not assigned\" borough"
      ]
    },
    {
      "cell_type": "code",
      "metadata": {
        "id": "L0tB1Jjy7T2K",
        "colab_type": "code",
        "colab": {}
      },
      "source": [
        "df = df[df.Borough != \"Not assigned\"]"
      ],
      "execution_count": 0,
      "outputs": []
    },
    {
      "cell_type": "markdown",
      "metadata": {
        "id": "8OCyPPDJIzAm",
        "colab_type": "text"
      },
      "source": [
        "### Verifing if exists \"Not assigned\" Neighbourhood"
      ]
    },
    {
      "cell_type": "code",
      "metadata": {
        "id": "wOAV3S3TIx7f",
        "colab_type": "code",
        "outputId": "0de2e3db-fafc-4209-80ce-6cd32f216315",
        "colab": {
          "base_uri": "https://localhost:8080/",
          "height": 85
        }
      },
      "source": [
        "df[df.Neighbourhood == \"Not assigned\"].count()"
      ],
      "execution_count": 71,
      "outputs": [
        {
          "output_type": "execute_result",
          "data": {
            "text/plain": [
              "Postcode         0\n",
              "Borough          0\n",
              "Neighbourhood    0\n",
              "dtype: int64"
            ]
          },
          "metadata": {
            "tags": []
          },
          "execution_count": 71
        }
      ]
    },
    {
      "cell_type": "markdown",
      "metadata": {
        "id": "rCb23eG1Hqwc",
        "colab_type": "text"
      },
      "source": [
        "### Grouping by Postcode an Borough and combining nighborhoods separeting with comma"
      ]
    },
    {
      "cell_type": "code",
      "metadata": {
        "id": "q5f50PhV-RIu",
        "colab_type": "code",
        "colab": {}
      },
      "source": [
        "df = df.groupby(['Postcode','Borough'])['Neighbourhood'].apply(', '.join).reset_index()"
      ],
      "execution_count": 0,
      "outputs": []
    },
    {
      "cell_type": "markdown",
      "metadata": {
        "id": "dx4j6nWNKO9a",
        "colab_type": "text"
      },
      "source": [
        "### Printing the number of rows from dataframe"
      ]
    },
    {
      "cell_type": "code",
      "metadata": {
        "id": "rbNJtur3BoDE",
        "colab_type": "code",
        "outputId": "f0b08a31-ebc6-4743-d104-b917a3740b4e",
        "colab": {
          "base_uri": "https://localhost:8080/",
          "height": 34
        }
      },
      "source": [
        "#In the last cell of your notebook, use the .shape method to print the number of rows of your dataframe.\n",
        "df.shape"
      ],
      "execution_count": 80,
      "outputs": [
        {
          "output_type": "execute_result",
          "data": {
            "text/plain": [
              "(103, 3)"
            ]
          },
          "metadata": {
            "tags": []
          },
          "execution_count": 80
        }
      ]
    },
    {
      "cell_type": "code",
      "metadata": {
        "id": "NzWZfeFvRWg1",
        "colab_type": "code",
        "colab": {}
      },
      "source": [
        ""
      ],
      "execution_count": 0,
      "outputs": []
    }
  ]
}